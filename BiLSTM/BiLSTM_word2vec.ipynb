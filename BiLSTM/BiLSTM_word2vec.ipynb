{
  "nbformat": 4,
  "nbformat_minor": 0,
  "metadata": {
    "colab": {
      "provenance": [],
      "gpuType": "T4"
    },
    "kernelspec": {
      "name": "python3",
      "display_name": "Python 3"
    },
    "language_info": {
      "name": "python"
    },
    "accelerator": "GPU"
  },
  "cells": [
    {
      "cell_type": "markdown",
      "source": [
        "# 1. Import thư viện và các tài nguyên"
      ],
      "metadata": {
        "id": "IIaL7dA9KNGR"
      }
    },
    {
      "cell_type": "markdown",
      "source": [
        "## 1.1. Thư viện và gg drive"
      ],
      "metadata": {
        "id": "T9XsCj-hykHJ"
      }
    },
    {
      "cell_type": "code",
      "source": [
        "!pip install seaborn -q\n",
        "!pip install scikit-learn -q\n",
        "!pip install tensorflow -q\n",
        "!pip install keras -q\n",
        "!pip install -U gdown"
      ],
      "metadata": {
        "id": "NBTfa4B0MVYQ",
        "colab": {
          "base_uri": "https://localhost:8080/"
        },
        "outputId": "c34b393b-a87c-4fe5-ac26-ed50b0b491bd"
      },
      "execution_count": 1,
      "outputs": [
        {
          "output_type": "stream",
          "name": "stdout",
          "text": [
            "Requirement already satisfied: gdown in /usr/local/lib/python3.11/dist-packages (5.2.0)\n",
            "Requirement already satisfied: beautifulsoup4 in /usr/local/lib/python3.11/dist-packages (from gdown) (4.13.4)\n",
            "Requirement already satisfied: filelock in /usr/local/lib/python3.11/dist-packages (from gdown) (3.18.0)\n",
            "Requirement already satisfied: requests[socks] in /usr/local/lib/python3.11/dist-packages (from gdown) (2.32.3)\n",
            "Requirement already satisfied: tqdm in /usr/local/lib/python3.11/dist-packages (from gdown) (4.67.1)\n",
            "Requirement already satisfied: soupsieve>1.2 in /usr/local/lib/python3.11/dist-packages (from beautifulsoup4->gdown) (2.7)\n",
            "Requirement already satisfied: typing-extensions>=4.0.0 in /usr/local/lib/python3.11/dist-packages (from beautifulsoup4->gdown) (4.14.1)\n",
            "Requirement already satisfied: charset-normalizer<4,>=2 in /usr/local/lib/python3.11/dist-packages (from requests[socks]->gdown) (3.4.2)\n",
            "Requirement already satisfied: idna<4,>=2.5 in /usr/local/lib/python3.11/dist-packages (from requests[socks]->gdown) (3.10)\n",
            "Requirement already satisfied: urllib3<3,>=1.21.1 in /usr/local/lib/python3.11/dist-packages (from requests[socks]->gdown) (2.5.0)\n",
            "Requirement already satisfied: certifi>=2017.4.17 in /usr/local/lib/python3.11/dist-packages (from requests[socks]->gdown) (2025.7.14)\n",
            "Requirement already satisfied: PySocks!=1.5.7,>=1.5.6 in /usr/local/lib/python3.11/dist-packages (from requests[socks]->gdown) (1.7.1)\n"
          ]
        }
      ]
    },
    {
      "cell_type": "code",
      "source": [
        "from google.colab import drive\n",
        "drive.mount('/content/drive')"
      ],
      "metadata": {
        "colab": {
          "base_uri": "https://localhost:8080/"
        },
        "id": "0gjw7p-LKlZq",
        "outputId": "3eb8e67d-7806-4645-859c-6771344d7627"
      },
      "execution_count": 2,
      "outputs": [
        {
          "output_type": "stream",
          "name": "stdout",
          "text": [
            "Mounted at /content/drive\n"
          ]
        }
      ]
    },
    {
      "cell_type": "markdown",
      "source": [
        "## 1.2. Tải và giải nén các bộ pre-trained word embeddings cho tiếng Việt\n",
        "\n",
        "Để mô hình có thể học tốt hơn ý nghĩa và ngữ nghĩa của từ, chúng ta thường sử dụng các **word embeddings** đã được huấn luyện trước (pre-trained) trên tập dữ liệu lớn. Việc này giúp mô hình tận dụng được tri thức ngôn ngữ chung, tăng hiệu quả ngay cả với lượng dữ liệu huấn luyện nhỏ.\n",
        "\n",
        "#### **A. fastText embedding**\n",
        "\n",
        "Tải bộ vector fastText cho tiếng Việt:**\n"
      ],
      "metadata": {
        "id": "UfmNfG_VEB5u"
      }
    },
    {
      "cell_type": "code",
      "source": [
        "!wget https://dl.fbaipublicfiles.com/fasttext/vectors-crawl/cc.vi.300.vec.gz"
      ],
      "metadata": {
        "colab": {
          "base_uri": "https://localhost:8080/"
        },
        "id": "egKREL-_Dx70",
        "outputId": "5c33e507-6480-4433-b6d7-13fc3979acc2"
      },
      "execution_count": 3,
      "outputs": [
        {
          "output_type": "stream",
          "name": "stdout",
          "text": [
            "--2025-07-26 07:28:15--  https://dl.fbaipublicfiles.com/fasttext/vectors-crawl/cc.vi.300.vec.gz\n",
            "Resolving dl.fbaipublicfiles.com (dl.fbaipublicfiles.com)... 13.35.37.84, 13.35.37.90, 13.35.37.111, ...\n",
            "Connecting to dl.fbaipublicfiles.com (dl.fbaipublicfiles.com)|13.35.37.84|:443... connected.\n",
            "HTTP request sent, awaiting response... 200 OK\n",
            "Length: 1235219084 (1.1G) [binary/octet-stream]\n",
            "Saving to: ‘cc.vi.300.vec.gz’\n",
            "\n",
            "cc.vi.300.vec.gz    100%[===================>]   1.15G   118MB/s    in 13s     \n",
            "\n",
            "2025-07-26 07:28:28 (89.3 MB/s) - ‘cc.vi.300.vec.gz’ saved [1235219084/1235219084]\n",
            "\n"
          ]
        }
      ]
    },
    {
      "cell_type": "markdown",
      "source": [
        "Giải nén file vector:"
      ],
      "metadata": {
        "id": "Fmqk2pOWF9UR"
      }
    },
    {
      "cell_type": "code",
      "source": [
        "import gzip\n",
        "import shutil\n",
        "with gzip.open('cc.vi.300.vec.gz', 'rb') as f_in:\n",
        "    with open('cc.vi.300.vec', 'wb') as f_out:\n",
        "        shutil.copyfileobj(f_in, f_out)"
      ],
      "metadata": {
        "id": "e9yzMHFFF-Nh"
      },
      "execution_count": 4,
      "outputs": []
    },
    {
      "cell_type": "markdown",
      "source": [
        "#### **B. PhoW2V embedding (Word2Vec của VinAI)**\n",
        "Tải word2vec embedding theo word và theo syllable  (tải từ trên máy local lên):\n",
        "\n",
        "Link git repo https://github.com/datquocnguyen/PhoW2V?tab=readme-ov-file"
      ],
      "metadata": {
        "id": "o3WhSxrqGInS"
      }
    },
    {
      "cell_type": "code",
      "source": [
        "!gdown --id 1EEF2xFmL9FZKY9dIwW3fAaHUwBXSRCdi -O /content/word2vec_vi_syllables_300dims.zip"
      ],
      "metadata": {
        "colab": {
          "base_uri": "https://localhost:8080/"
        },
        "id": "bHuXtZXhGRxN",
        "outputId": "c30a1596-8fa7-4e72-e52e-47c7115a7a50"
      },
      "execution_count": 5,
      "outputs": [
        {
          "output_type": "stream",
          "name": "stdout",
          "text": [
            "/usr/local/lib/python3.11/dist-packages/gdown/__main__.py:140: FutureWarning: Option `--id` was deprecated in version 4.3.1 and will be removed in 5.0. You don't need to pass it anymore to use a file ID.\n",
            "  warnings.warn(\n",
            "Downloading...\n",
            "From (original): https://drive.google.com/uc?id=1EEF2xFmL9FZKY9dIwW3fAaHUwBXSRCdi\n",
            "From (redirected): https://drive.google.com/uc?id=1EEF2xFmL9FZKY9dIwW3fAaHUwBXSRCdi&confirm=t&uuid=81cd4dc4-d2ca-4ff9-9356-9b4f6bda32cc\n",
            "To: /content/word2vec_vi_syllables_300dims.zip\n",
            "100% 1.42G/1.42G [00:13<00:00, 104MB/s]\n"
          ]
        }
      ]
    },
    {
      "cell_type": "code",
      "source": [
        "from zipfile import ZipFile\n",
        "\n",
        "zipf = ZipFile('word2vec_vi_syllables_300dims.zip')\n",
        "zipf.extractall()"
      ],
      "metadata": {
        "id": "GPYdqij8wET2"
      },
      "execution_count": 6,
      "outputs": []
    },
    {
      "cell_type": "code",
      "source": [
        "!gdown --id 1e_zLgwkt1LmmC2rY7DOaPgjwwC-p3h0F -O /content/word2vec_vi_words_300dims.zip"
      ],
      "metadata": {
        "colab": {
          "base_uri": "https://localhost:8080/"
        },
        "id": "AyhDHvfQy239",
        "outputId": "fa7ddb87-480d-4427-a84d-7b721ded5d61"
      },
      "execution_count": 7,
      "outputs": [
        {
          "output_type": "stream",
          "name": "stdout",
          "text": [
            "/usr/local/lib/python3.11/dist-packages/gdown/__main__.py:140: FutureWarning: Option `--id` was deprecated in version 4.3.1 and will be removed in 5.0. You don't need to pass it anymore to use a file ID.\n",
            "  warnings.warn(\n",
            "Downloading...\n",
            "From (original): https://drive.google.com/uc?id=1e_zLgwkt1LmmC2rY7DOaPgjwwC-p3h0F\n",
            "From (redirected): https://drive.google.com/uc?id=1e_zLgwkt1LmmC2rY7DOaPgjwwC-p3h0F&confirm=t&uuid=95e6a689-9ed2-4623-9c03-7b7879f818ad\n",
            "To: /content/word2vec_vi_words_300dims.zip\n",
            "100% 2.32G/2.32G [01:09<00:00, 33.1MB/s]\n"
          ]
        }
      ]
    },
    {
      "cell_type": "code",
      "source": [
        "zipf = ZipFile('word2vec_vi_words_300dims.zip')\n",
        "zipf.extractall()"
      ],
      "metadata": {
        "id": "RMkvqVcGzGM-"
      },
      "execution_count": 8,
      "outputs": []
    },
    {
      "cell_type": "markdown",
      "source": [
        "## 1.3. Config.yml\n"
      ],
      "metadata": {
        "id": "H3nF03yTMb8H"
      }
    },
    {
      "cell_type": "code",
      "source": [
        "import yaml\n",
        "\n",
        "path = \"/content/drive/MyDrive/1.PROJECTS/[TeamPe][BIT][BGRA2025]/NLP/Code/config.yaml\"\n",
        "\n",
        "with open(path, 'r', encoding='utf-8') as f:\n",
        "    config = yaml.safe_load(f)\n",
        "\n"
      ],
      "metadata": {
        "id": "GyXScThWQTrj"
      },
      "execution_count": 9,
      "outputs": []
    },
    {
      "cell_type": "code",
      "source": [
        "import os\n",
        "import random\n",
        "import numpy as np\n",
        "import tensorflow as tf\n",
        "\n",
        "def set_seed(seed=42):\n",
        "    os.environ[\"PYTHONHASHSEED\"] = str(seed)\n",
        "    random.seed(seed)\n",
        "    np.random.seed(seed)\n",
        "    tf.random.set_seed(seed)\n"
      ],
      "metadata": {
        "id": "RiLpgRGn-rfk"
      },
      "execution_count": 10,
      "outputs": []
    },
    {
      "cell_type": "markdown",
      "source": [
        "# 2. Dataset\n"
      ],
      "metadata": {
        "id": "l6DZCpdyQktq"
      }
    },
    {
      "cell_type": "code",
      "metadata": {
        "id": "8c792c77"
      },
      "source": [
        "import yaml\n",
        "import pandas as pd\n",
        "import numpy as np\n",
        "import re\n",
        "from tensorflow.keras.preprocessing.text import Tokenizer\n",
        "from tensorflow.keras.preprocessing.sequence import pad_sequences\n",
        "\n",
        "def vi_preprocess(text):\n",
        "    # Lowercase\n",
        "    text = text.lower()\n",
        "    # Loại bỏ ký tự không phải chữ/số\n",
        "    text = re.sub(r\"[^\\w\\s]\", \" \", text)\n",
        "    # Loại bỏ số\n",
        "    # text = re.sub(r\"\\d+\", \" \", text)\n",
        "    # Chuẩn hóa khoảng trắng\n",
        "    text = re.sub(r\"\\s+\", \" \", text).strip()\n",
        "    return text\n",
        "\n",
        "class DataLoader:\n",
        "    def __init__(self, config_path, mode='train', embedding_type=None):\n",
        "\n",
        "        # Load config từ file\n",
        "        with open(config_path, 'r', encoding='utf-8') as f:\n",
        "            self.config = yaml.safe_load(f)\n",
        "\n",
        "        self.mode = mode\n",
        "\n",
        "        # Lấy đường dẫn file theo mode (train/test/val/warmup)\n",
        "        paths = self.config['paths']\n",
        "        if mode not in paths:\n",
        "            raise ValueError(f\"Mode '{mode}' không có trong config.\")\n",
        "        self.data_path = paths[mode]\n",
        "        # Thay thế {paths.base} nếu cần\n",
        "        base = paths.get(\"base\", \"\")\n",
        "        if \"{paths.base}\" in self.data_path:\n",
        "            self.data_path = self.data_path.replace(\"{paths.base}\", base)\n",
        "\n",
        "        # Các tham số tiền xử lý\n",
        "        bilstm_conf = self.config['preprocessing']['bilstm']\n",
        "        self.max_num_words = bilstm_conf.get('max_features', 2500)\n",
        "        self.max_seq_length = bilstm_conf.get('maxlen', 500)\n",
        "        self.clean_text = bilstm_conf.get('clean_text', True)\n",
        "\n",
        "        self.tokenizer = Tokenizer(num_words=self.max_num_words, oov_token=\"<OOV>\")\n",
        "        self.texts, self.labels = self.load_data()\n",
        "        self.prepare_data()\n",
        "\n",
        "        # Xử lý embedding ngoài nếu được yêu cầu\n",
        "        self.embedding_matrix = None\n",
        "        if embedding_type is not None:\n",
        "            self.embedding_matrix = self.get_embedding_matrix(embedding_type)\n",
        "\n",
        "    def load_data(self):\n",
        "        df = pd.read_csv(self.data_path)\n",
        "        texts = df['post_message'].astype(str).tolist()\n",
        "        if self.clean_text:\n",
        "            texts = [vi_preprocess(t) for t in texts]\n",
        "        if 'label' in df.columns:\n",
        "            labels = df['label'].astype(int).values\n",
        "        else:\n",
        "            labels = None\n",
        "        return texts, labels\n",
        "\n",
        "    def prepare_data(self):\n",
        "        # Fit tokenizer trên toàn bộ texts (thường chỉ fit trên train)\n",
        "        self.tokenizer.fit_on_texts(self.texts)\n",
        "        sequences = self.tokenizer.texts_to_sequences(self.texts)\n",
        "        self.padded_sequences = pad_sequences(\n",
        "            sequences, maxlen=self.max_seq_length, padding='post', truncating='post'\n",
        "        )\n",
        "\n",
        "    def get_data(self):\n",
        "        print(f\"Load dataset: {self.mode}\")\n",
        "        return self.padded_sequences, self.labels\n",
        "\n",
        "    def get_tokenizer(self):\n",
        "        return self.tokenizer\n",
        "\n",
        "    def get_config(self):\n",
        "        return self.config\n",
        "\n",
        "    def get_embedding_matrix(self, embedding_type=None, cache_dir='.', force_rebuild=False):\n",
        "        \"\"\"\n",
        "        Trả về embedding matrix: ưu tiên load từ cache .npy (nếu có),\n",
        "        nếu chưa có sẽ tự động build từ file text embedding, lưu vào cache .npy.\n",
        "        Nếu embedding_type=None sẽ trả về random matrix.\n",
        "        \"\"\"\n",
        "        embed_dim = getattr(self, 'embed_dim', 300)\n",
        "        num_words = min(getattr(self, 'max_num_words', 2500), len(self.tokenizer.word_index) + 1)\n",
        "\n",
        "        if embedding_type is None:\n",
        "            print(\"[DataLoader] Không dùng embedding ngoài, tạo random embedding_matrix.\")\n",
        "            return np.random.uniform(-0.05, 0.05, (self.max_num_words, embed_dim))\n",
        "\n",
        "        # Đặt tên cache theo tokenizer + embedding_type để tránh nhầm lẫn\n",
        "        cache_file = os.path.join(\n",
        "            cache_dir,\n",
        "            f\"embedding_matrix_{embedding_type}_{num_words}_{embed_dim}.npy\"\n",
        "        )\n",
        "        if os.path.exists(cache_file) and not force_rebuild:\n",
        "            print(f\"[DataLoader] Loading cached embedding matrix: {cache_file}\")\n",
        "            return np.load(cache_file)\n",
        "\n",
        "        # Lấy embedding_path từ config hoặc truyền vào class khi init\n",
        "        try:\n",
        "            embedding_path = self.embedding_path if hasattr(self, 'embedding_path') else \\\n",
        "                self.config['paths']['embeddings'][embedding_type]\n",
        "        except Exception as e:\n",
        "            raise ValueError(f\"Không tìm thấy đường dẫn embedding {embedding_type}: {e}\")\n",
        "\n",
        "        print(f\"[DataLoader] Building embedding matrix từ {embedding_path}\")\n",
        "        vocab = set(self.tokenizer.word_index.keys())\n",
        "        embedding_matrix = np.random.uniform(-0.05, 0.05, (self.max_num_words, embed_dim))\n",
        "        with open(embedding_path, \"r\", encoding=\"utf-8\", errors=\"ignore\") as f:\n",
        "            first_line = f.readline()\n",
        "            try:\n",
        "                int(first_line.split()[1])\n",
        "            except:\n",
        "                f.seek(0)\n",
        "            for line in f:\n",
        "                values = line.rstrip().split()\n",
        "                word = values[0]\n",
        "                if word in vocab:\n",
        "                    i = self.tokenizer.word_index[word]\n",
        "                    if i >= num_words:\n",
        "                        continue\n",
        "                    try:\n",
        "                        vec = np.asarray(values[1:], dtype='float32')\n",
        "                    except Exception as e:\n",
        "                        print(f\"Bỏ qua từ {word} do lỗi: {e}\")\n",
        "                        continue\n",
        "                    if vec.shape[0] == embed_dim:\n",
        "                        embedding_matrix[i] = vec\n",
        "\n",
        "        os.makedirs(os.path.dirname(cache_file), exist_ok=True)\n",
        "        np.save(cache_file, embedding_matrix)\n",
        "\n",
        "        print(f\"[DataLoader] Đã lưu embedding matrix cache tại {cache_file}\")\n",
        "        return embedding_matrix\n",
        "\n",
        "\n",
        "\n"
      ],
      "execution_count": 11,
      "outputs": []
    },
    {
      "cell_type": "code",
      "metadata": {
        "id": "6673bf60"
      },
      "source": [],
      "execution_count": 11,
      "outputs": []
    },
    {
      "cell_type": "markdown",
      "source": [
        "# 3. BiLSTM Model"
      ],
      "metadata": {
        "id": "81GO7YLCkMI-"
      }
    },
    {
      "cell_type": "code",
      "source": [
        "from keras.models import Sequential, load_model\n",
        "from keras.layers import Embedding, Bidirectional, LSTM, Dense, Dropout\n",
        "\n",
        "class BiLSTMModel:\n",
        "    def __init__(\n",
        "        self,\n",
        "        vocab_size,\n",
        "        embedding_dim=128,\n",
        "        max_seq_length=100,\n",
        "        lstm_units=64,\n",
        "        dropout_rate=0.2,\n",
        "        output_dim=1,\n",
        "        output_activation=\"sigmoid\",\n",
        "        loss=\"binary_crossentropy\",\n",
        "        optimizer=\"adam\",\n",
        "        metrics=[\"accuracy\"]\n",
        "    ):\n",
        "        self.vocab_size = vocab_size\n",
        "        self.embedding_dim = embedding_dim\n",
        "        self.max_seq_length = max_seq_length\n",
        "        self.lstm_units = lstm_units\n",
        "        self.dropout_rate = dropout_rate\n",
        "        self.output_dim = output_dim\n",
        "        self.output_activation = output_activation\n",
        "\n",
        "                # --- CHỌN LOSS THEO THAM SỐ ---\n",
        "        if str(loss).lower() == \"focal\":\n",
        "            self.loss = focal_loss_fixed\n",
        "            print(\"=> Sử dụng Focal Loss\")\n",
        "        else:\n",
        "            self.loss = loss  # \"binary_crossentropy\" hoặc tên loss khác\n",
        "            print(\"=> Sử dụng loss:\", loss)\n",
        "\n",
        "        self.optimizer = optimizer\n",
        "        self.metrics = [\n",
        "            \"accuracy\",\n",
        "            tf.keras.metrics.Precision(name='precision'),\n",
        "            tf.keras.metrics.Recall(name='recall'),\n",
        "            tf.keras.metrics.AUC(name='auc')\n",
        "        ]\n",
        "        self.model = self.build_model()\n",
        "        self.model.compile(\n",
        "            loss=self.loss,\n",
        "            optimizer=self.optimizer,\n",
        "            metrics=self.metrics\n",
        "        )\n",
        "\n",
        "    def build_model(self):\n",
        "        model = Sequential()\n",
        "        model.add(Embedding(self.vocab_size, self.embedding_dim, input_length=self.max_seq_length))\n",
        "        model.add(Bidirectional(LSTM(self.lstm_units, return_sequences=False)))\n",
        "        model.add(Dropout(self.dropout_rate))\n",
        "        model.add(Dense(self.output_dim, activation=self.output_activation))\n",
        "        return model\n",
        "\n",
        "    def summary(self):\n",
        "        return self.model.summary()\n",
        "\n",
        "    def save(self, filepath):\n",
        "        self.model.save(filepath)\n",
        "\n",
        "    def load(self, filepath):\n",
        "        self.model = load_model(filepath)"
      ],
      "metadata": {
        "id": "rLq3Y85EdCvy"
      },
      "execution_count": 12,
      "outputs": []
    },
    {
      "cell_type": "code",
      "source": [
        "from keras.saving import register_keras_serializable\n",
        "import tensorflow as tf\n",
        "from keras import backend as K\n",
        "\n",
        "@register_keras_serializable(package=\"custom\", name=\"focal_loss_fixed\")\n",
        "def focal_loss_fixed(y_true, y_pred):\n",
        "    gamma = 2.0\n",
        "    alpha = 0.5\n",
        "    y_true = tf.cast(y_true, tf.float32)\n",
        "    epsilon = K.epsilon()\n",
        "    y_pred = tf.clip_by_value(y_pred, epsilon, 1. - epsilon)\n",
        "    pt = tf.where(tf.equal(y_true, 1), y_pred, 1 - y_pred)\n",
        "    loss = -alpha * tf.pow(1. - pt, gamma) * tf.math.log(pt)\n",
        "    return tf.reduce_mean(loss)\n"
      ],
      "metadata": {
        "id": "Gz04JMrzgOt1"
      },
      "execution_count": 13,
      "outputs": []
    },
    {
      "cell_type": "markdown",
      "source": [
        "# 4. Class Trainer"
      ],
      "metadata": {
        "id": "jgZ5WWxIklek"
      }
    },
    {
      "cell_type": "code",
      "source": [
        "import csv\n",
        "from tensorflow.keras.callbacks import EarlyStopping, ModelCheckpoint, TensorBoard, CSVLogger\n",
        "import os\n",
        "\n",
        "class Trainer:\n",
        "    def __init__(\n",
        "        self,\n",
        "        model,\n",
        "        X_train,\n",
        "        y_train,\n",
        "        X_val=None,\n",
        "        y_val=None,\n",
        "        batch_size=32,\n",
        "        epochs=10,\n",
        "        callbacks=None,\n",
        "        validation_split=0.2,\n",
        "        use_validation_data=True,\n",
        "        verbose=1,\n",
        "        checkpoint_path=None,\n",
        "        log_path=None,\n",
        "        class_weights=None,\n",
        "    ):\n",
        "        self.model = model  # Là model Keras (ví dụ model_obj.model)\n",
        "        self.X_train = X_train\n",
        "        self.y_train = y_train\n",
        "        self.X_val = X_val\n",
        "        self.y_val = y_val\n",
        "        self.batch_size = batch_size\n",
        "        self.epochs = epochs\n",
        "        self.validation_split = validation_split\n",
        "        self.use_validation_data = use_validation_data\n",
        "        self.verbose = verbose\n",
        "        self.checkpoint_path = checkpoint_path\n",
        "        self.log_path = log_path\n",
        "        self.callbacks = callbacks if callbacks is not None else self.default_callbacks()\n",
        "        self.class_weights = class_weights\n",
        "\n",
        "        # Khởi tạo callbacks\n",
        "        if self.checkpoint_path is not None:\n",
        "            # Lưu model theo chuẩn .keras, monitor val_loss\n",
        "            self.callbacks.append(\n",
        "                ModelCheckpoint(\n",
        "                    filepath=self.checkpoint_path,\n",
        "                    monitor='val_loss',\n",
        "                    save_best_only=True,\n",
        "                    verbose=1,\n",
        "                )\n",
        "            )\n",
        "        # Tự build model nếu chưa build để tránh param=0 khi summary\n",
        "        self._auto_build()\n",
        "\n",
        "    def _auto_build(self):\n",
        "        # Nếu model chưa được build (layers param=0), hãy build trước với shape phù hợp\n",
        "        # Cách này hoạt động nếu bạn biết shape input (vd: max_seq_length)\n",
        "        if hasattr(self.model, 'built') and not self.model.built:\n",
        "            # Lấy shape từ layer đầu tiên nếu có, hoặc đoán theo chuẩn NLP\n",
        "            for layer in self.model.layers:\n",
        "                if hasattr(layer, 'input_length'):\n",
        "                    seq_len = getattr(layer, 'input_length', 100)\n",
        "                    self.model.build(input_shape=(None, seq_len))\n",
        "                    break\n",
        "            # Hoặc dùng cứng nếu bạn biết chắc chiều dài:\n",
        "            # self.model.build(input_shape=(None, 500))\n",
        "        # In summary để kiểm tra, có thể comment nếu không cần\n",
        "        self.model.summary()\n",
        "\n",
        "    def default_callbacks(self):\n",
        "        callbacks = [\n",
        "        EarlyStopping(monitor='val_loss', patience=3, restore_best_weights=True)\n",
        "    ]\n",
        "\n",
        "        if self.log_path:\n",
        "            log_dir = os.path.dirname(self.log_path)\n",
        "            if log_dir and not os.path.exists(log_dir):\n",
        "                os.makedirs(log_dir)\n",
        "\n",
        "            # CSVLogger: ghi log training vào file CSV\n",
        "            callbacks.append(CSVLogger(self.log_path, append=False))\n",
        "\n",
        "            # TensorBoard: log cho TensorBoard\n",
        "            tensorboard_dir = os.path.join(log_dir, \"tensorboard\")\n",
        "            callbacks.append(TensorBoard(log_dir=tensorboard_dir, histogram_freq=1))\n",
        "\n",
        "        return callbacks\n",
        "\n",
        "    def train(self):\n",
        "        if self.use_validation_data and self.X_val is not None and self.y_val is not None:\n",
        "            history = self.model.fit(\n",
        "                self.X_train, self.y_train,\n",
        "                validation_data=(self.X_val, self.y_val),\n",
        "                batch_size=self.batch_size,\n",
        "                epochs=self.epochs,\n",
        "                callbacks=self.callbacks,\n",
        "                verbose=self.verbose,\n",
        "                class_weight=self.class_weights\n",
        "            )\n",
        "        else:\n",
        "            history = self.model.fit(\n",
        "                self.X_train, self.y_train,\n",
        "                validation_split=self.validation_split,\n",
        "                batch_size=self.batch_size,\n",
        "                epochs=self.epochs,\n",
        "                callbacks=self.callbacks,\n",
        "                verbose=self.verbose,\n",
        "                class_weight=self.class_weights\n",
        "            )\n",
        "        return history\n"
      ],
      "metadata": {
        "id": "5PG8yvs2gQhg"
      },
      "execution_count": 14,
      "outputs": []
    },
    {
      "cell_type": "code",
      "source": [
        "from sklearn.metrics import f1_score, recall_score, precision_score, roc_auc_score\n",
        "from tensorflow.keras.callbacks import Callback\n",
        "import numpy as np\n",
        "\n",
        "class BinaryMetricsCallback(Callback):\n",
        "    def __init__(self, X_val, y_val, threshold=0.5):\n",
        "        super().__init__()\n",
        "        self.X_val = X_val\n",
        "        self.y_val = y_val\n",
        "        self.threshold = threshold\n",
        "\n",
        "    def on_epoch_end(self, epoch, logs=None):\n",
        "        # Dự đoán xác suất\n",
        "        y_pred_prob = self.model.predict(self.X_val)\n",
        "\n",
        "        # Nhãn dự đoán 0/1 dựa theo ngưỡng threshold\n",
        "        y_pred = (y_pred_prob > self.threshold).astype(int).reshape(-1)\n",
        "\n",
        "        # Nếu y_val là one-hot vector thì chuyển thành nhãn\n",
        "        y_true = self.y_val if len(self.y_val.shape) == 1 else np.argmax(self.y_val, axis=1)\n",
        "\n",
        "        # Tính các chỉ số\n",
        "        f1 = f1_score(y_true, y_pred, average='binary')\n",
        "        recall = recall_score(y_true, y_pred, average='binary')\n",
        "        precision = precision_score(y_true, y_pred, average='binary')\n",
        "        try:\n",
        "            auc = roc_auc_score(y_true, y_pred_prob)\n",
        "        except ValueError:\n",
        "            auc = float('nan')  # xảy ra khi chỉ có 1 lớp trong batch val\n",
        "\n",
        "        # In kết quả\n",
        "        print(f\" — val_precision: {precision:.4f} — val_recall: {recall:.4f} — val_f1: {f1:.4f} — val_auc: {auc:.4f}\")\n",
        "\n",
        "        # Ghi vào logs để có thể lưu hoặc dùng với TensorBoard/CSVLogger\n",
        "        if logs is not None:\n",
        "            logs['val_precision'] = precision\n",
        "            logs['val_recall'] = recall\n",
        "            logs['val_f1'] = f1\n",
        "            logs['val_auc'] = auc"
      ],
      "metadata": {
        "id": "DzVJxd7W95k9"
      },
      "execution_count": 15,
      "outputs": []
    },
    {
      "cell_type": "markdown",
      "source": [
        "# 5. Class Evaluator"
      ],
      "metadata": {
        "id": "_zgDbs3-xumn"
      }
    },
    {
      "cell_type": "code",
      "metadata": {
        "id": "4677000e"
      },
      "source": [
        "import matplotlib.pyplot as plt\n",
        "from sklearn.metrics import classification_report, confusion_matrix, accuracy_score, roc_curve, auc, precision_score, recall_score, f1_score\n",
        "import seaborn as sns\n",
        "\n",
        "class Evaluator:\n",
        "    def __init__(self, model):\n",
        "        self.model = model  # Là model Keras (.model của BiLSTMModel)\n",
        "\n",
        "    def evaluate(self, X_test, y_test, batch_size=32):\n",
        "        results = self.model.evaluate(X_test, y_test, batch_size=batch_size, verbose=0)\n",
        "        metric_names = self.model.metrics_names\n",
        "\n",
        "        for name, value in zip(metric_names, results):\n",
        "            print(f\"{name}: {value:.4f}\")\n",
        "\n",
        "        return dict(zip(metric_names, results))\n",
        "\n",
        "\n",
        "    def classification_report(self, X_test, y_test, threshold=0.5):\n",
        "        y_pred_prob = self.model.predict(X_test)\n",
        "        y_pred = (y_pred_prob > threshold).astype(int)\n",
        "\n",
        "        print(f\"\\n📋 Classification Report (threshold = {threshold}):\")\n",
        "        print(classification_report(y_test, y_pred, digits=4))\n",
        "\n",
        "        precision = precision_score(y_test, y_pred)\n",
        "        recall = recall_score(y_test, y_pred)\n",
        "        f1 = f1_score(y_test, y_pred)\n",
        "\n",
        "        print(f\"\\n🔍 Precision: {precision:.4f} | Recall: {recall:.4f} | F1-score: {f1:.4f}\")\n",
        "\n",
        "\n",
        "    def plot_history(self, history):\n",
        "        # Plot loss\n",
        "        plt.figure()\n",
        "        plt.plot(history.history['loss'], label='Train Loss')\n",
        "        if 'val_loss' in history.history:\n",
        "            plt.plot(history.history['val_loss'], label='Val Loss')\n",
        "        plt.title('Loss')\n",
        "        plt.xlabel('Epoch')\n",
        "        plt.ylabel('Loss')\n",
        "        plt.legend()\n",
        "        plt.show()\n",
        "\n",
        "        # Plot accuracy\n",
        "        if 'accuracy' in history.history:\n",
        "            plt.figure()\n",
        "            plt.plot(history.history['accuracy'], label='Train Acc')\n",
        "            if 'val_accuracy' in history.history:\n",
        "                plt.plot(history.history['val_accuracy'], label='Val Acc')\n",
        "            plt.title('Accuracy')\n",
        "            plt.xlabel('Epoch')\n",
        "            plt.ylabel('Accuracy')\n",
        "            plt.legend()\n",
        "            plt.show()\n",
        "\n",
        "    def confusion_matrix(self, X_test, y_test, threshold=0.5):\n",
        "        y_pred_prob = self.model.predict(X_test)\n",
        "\n",
        "        y_pred = (y_pred_prob > threshold).astype(int)\n",
        "\n",
        "        cm = confusion_matrix(y_test, y_pred)\n",
        "\n",
        "        print(\"\\n📊 Confusion Matrix:\")\n",
        "        print(cm)\n",
        "\n",
        "        # Trực quan hóa\n",
        "        plt.figure(figsize=(4, 3))\n",
        "        sns.heatmap(cm, annot=True, fmt='d', cmap='Blues', xticklabels=[0,1], yticklabels=[0,1])\n",
        "        plt.xlabel('Predicted')\n",
        "        plt.ylabel('Actual')\n",
        "        plt.title(f'Confusion Matrix (threshold={threshold})')\n",
        "        plt.show()\n",
        "\n",
        "\n",
        "    def predict_single(self, input_sequence):\n",
        "        # input_sequence đã pad sẵn\n",
        "        y_prob = self.model.predict(input_sequence)\n",
        "        return int(y_prob[0][0] > 0.5)\n",
        "\n",
        "    def plot_roc_auc(self, X_test, y_test):\n",
        "        y_score = self.model.predict(X_test)\n",
        "\n",
        "        # Binary classification\n",
        "        fpr, tpr, _ = roc_curve(y_test, y_score)\n",
        "        roc_auc = auc(fpr, tpr)\n",
        "        plt.figure()\n",
        "        plt.plot(fpr, tpr, color='darkorange', lw=2, label=f'ROC curve (AUC = {roc_auc:.2f})')\n",
        "        plt.plot([0, 1], [0, 1], color='navy', lw=2, linestyle='--')\n",
        "        plt.xlabel('False Positive Rate')\n",
        "        plt.ylabel('True Positive Rate')\n",
        "        plt.title('ROC Curve')\n",
        "        plt.legend(loc=\"lower right\")\n",
        "        plt.show()\n",
        "\n"
      ],
      "execution_count": 16,
      "outputs": []
    },
    {
      "cell_type": "markdown",
      "source": [
        "# 6. Run pipeline"
      ],
      "metadata": {
        "id": "09YOXuYwlABQ"
      }
    },
    {
      "cell_type": "code",
      "source": [
        "%%writefile \"/content/drive/MyDrive/1.PROJECTS/[TeamPe][BIT][BGRA2025]/NLP/Code/config_bilstm_word2vec.yaml\"\n",
        "\n",
        "mode: train\n",
        "seed: 123\n",
        "\n",
        "paths:\n",
        "  train: \"/content/drive/MyDrive/1.PROJECTS/[TeamPe][BIT][BGRA2025]/NLP/Code/reintel_dataset/train.csv\"\n",
        "  test: \"/content/drive/MyDrive/1.PROJECTS/[TeamPe][BIT][BGRA2025]/NLP/Code/reintel_dataset/test.csv\"\n",
        "  val: \"/content/drive/MyDrive/1.PROJECTS/[TeamPe][BIT][BGRA2025]/NLP/Code/reintel_dataset/val.csv\"\n",
        "  warmup: \"/content/drive/MyDrive/1.PROJECTS/[TeamPe][BIT][BGRA2025]/NLP/Code/reintel_dataset/warmup.csv\"\n",
        "  embeddings:\n",
        "    fasttext: \"cc.vi.300.vec\" #fasttext\n",
        "    word2vec: \"word2vec_vi_syllables_300dims.txt\"\n",
        "\n",
        "preprocessing:\n",
        "  bilstm:\n",
        "    max_features: 2500\n",
        "    maxlen: 500\n",
        "    embed_size: 300\n",
        "    clean_text: true\n",
        "  phobert:\n",
        "    max_sequence_length: 256\n",
        "    clean_text: true\n",
        "\n",
        "split:\n",
        "  valid_size: 0.33\n",
        "  random_state: 42  # dùng chung cho cả seed và train_test_split\n",
        "\n",
        "models:\n",
        "  bilstm:\n",
        "    embedding_dim: 300\n",
        "    max_seq_length: 500\n",
        "    lstm_units: 128\n",
        "    dropout_rate: 0.3\n",
        "    output_dim: 1\n",
        "    output_activation: \"sigmoid\"\n",
        "    loss: \"focal\"  # hoặc \"binary_crossentropy\"\n",
        "    optimizer: \"adam\"\n",
        "    embedding_type: \"word2vec\" #\n",
        "    metrics: [\"accuracy\", \"precision\", \"recall\", \"auc\"]\n",
        "    use_f1_callback: true  # để dùng BinaryMetricsCallback()\n",
        "\n",
        "training:\n",
        "  batch_size: 32\n",
        "  epochs: 10\n",
        "  checkpoint_path: \"/content/drive/MyDrive/1.PROJECTS/[TeamPe][BIT][BGRA2025]/NLP/Code/checkpoints/fasttext_model.keras\"\n",
        "  log_path: \"/content/drive/MyDrive/1.PROJECTS/[TeamPe][BIT][BGRA2025]/NLP/Code/logs/training_log_fasttext.csv\"\n",
        "  early_stopping:\n",
        "    patience: 3\n",
        "  device: auto\n"
      ],
      "metadata": {
        "colab": {
          "base_uri": "https://localhost:8080/"
        },
        "id": "2dz3w3QJMaJi",
        "outputId": "e3eeb191-edd3-4543-eb38-c26a8804d020"
      },
      "execution_count": 17,
      "outputs": [
        {
          "output_type": "stream",
          "name": "stdout",
          "text": [
            "Writing /content/drive/MyDrive/1.PROJECTS/[TeamPe][BIT][BGRA2025]/NLP/Code/config_bilstm_word2vec.yaml\n"
          ]
        }
      ]
    },
    {
      "cell_type": "code",
      "source": [
        "from sklearn.utils.class_weight import compute_class_weight\n",
        "import numpy as np\n",
        "import os\n",
        "import builtins\n",
        "\n",
        "\n",
        "zip = builtins.zip\n",
        "\n",
        "# Đường dẫn config.yaml\n",
        "config_path = \"/content/drive/MyDrive/1.PROJECTS/[TeamPe][BIT][BGRA2025]/NLP/Code/config.yaml\"\n",
        "with open(config_path, 'r', encoding='utf-8') as f:\n",
        "    config = yaml.safe_load(f)\n",
        "set_seed(config[\"seed\"])\n",
        "\n",
        "\n",
        "# 1. Load data train và validation\n",
        "# Load tập train (áp dụng preprocessing nếu bật clean_text trong config)\n",
        "train_loader = DataLoader(config_path, mode=\"train\", embedding_type=config['models']['bilstm']['embedding_type'])  # \"fasttext\" hoặc \"word2vec\", hoặc None\n",
        "X_train, y_train = train_loader.get_data()\n",
        "tokenizer = train_loader.get_tokenizer()\n",
        "\n",
        "embedding_matrix = train_loader.get_embedding_matrix(\n",
        "    embedding_type= config['models']['bilstm']['embedding_type'],  # hoặc 'word2vec', hoặc None\n",
        ")\n",
        "\n",
        "# Load tập validation (phải dùng lại tokenizer đã fit trên train!)\n",
        "val_loader = DataLoader(config_path, mode=\"val\")\n",
        "val_loader.tokenizer = tokenizer\n",
        "val_loader.prepare_data()  # Re-tokenize + pad với tokenizer đã fit từ train\n",
        "X_val, y_val = val_loader.get_data()\n",
        "\n",
        "#Load test set\n",
        "test_loader = DataLoader(config_path, mode=\"test\")\n",
        "test_loader.tokenizer = tokenizer\n",
        "test_loader.prepare_data()\n",
        "X_test, y_test = test_loader.get_data()\n",
        "\n",
        "\n",
        "# 2. Khởi tạo model với tham số từ config\n",
        "bilstm_conf = config['models']['bilstm']\n",
        "pre_conf = config['preprocessing']['bilstm']\n",
        "\n",
        "model_obj = BiLSTMModel(\n",
        "    vocab_size=len(tokenizer.word_index) + 1,\n",
        "    embedding_dim=pre_conf.get(\"embed_size\", 300),\n",
        "    max_seq_length=pre_conf.get(\"maxlen\", 500),\n",
        "    lstm_units=bilstm_conf.get(\"lstm_units\", 128),\n",
        "    dropout_rate=bilstm_conf.get(\"dropout_rate\", 0.3),\n",
        "    output_dim=bilstm_conf.get(\"output_dim\", 1),\n",
        "    output_activation=bilstm_conf.get(\"output_activation\", \"sigmoid\"),\n",
        "    loss=bilstm_conf.get(\"loss\", \"binary_crossentropy\"),\n",
        "    optimizer=bilstm_conf.get(\"optimizer\", \"adam\")\n",
        ")\n",
        "\n",
        "model_obj.summary()\n",
        "\n",
        "# 3. Khởi tạo Trainer và train\n",
        "class_weights = compute_class_weight('balanced', classes=np.unique(y_train), y=y_train)\n",
        "class_weights = dict(enumerate(class_weights))\n",
        "print(class_weights)\n",
        "\n",
        "binary_metrics_cb = BinaryMetricsCallback(X_val, y_val)\n",
        "trainer = Trainer(\n",
        "    model=model_obj.model,\n",
        "    X_train=X_train, y_train=y_train,\n",
        "    X_val=X_val, y_val=y_val,\n",
        "    batch_size=32,\n",
        "    epochs=10,\n",
        "    checkpoint_path=config['training']['checkpoint_path'],\n",
        "    log_path=config['training']['log_path'],\n",
        "    callbacks=[binary_metrics_cb],\n",
        "    class_weights = class_weights\n",
        ")\n",
        "history = trainer.train()\n",
        "model_obj.save(\"best_model.keras\")\n",
        "\n",
        "# 4. Đánh giá & trực quan hóa\n",
        "\n",
        "evaluator = Evaluator(model_obj.model)\n",
        "\n",
        "evaluator.evaluate(X_test, y_test)\n",
        "evaluator.classification_report(X_test, y_test)\n",
        "evaluator.confusion_matrix(X_test, y_test)\n",
        "evaluator.plot_roc_auc(X_test, y_test)\n"
      ],
      "metadata": {
        "colab": {
          "base_uri": "https://localhost:8080/",
          "height": 1000
        },
        "id": "wC8unSgGlBvJ",
        "outputId": "4ff2bcc0-b5a3-4cdc-de55-51aa32ce900f"
      },
      "execution_count": 18,
      "outputs": [
        {
          "output_type": "stream",
          "name": "stdout",
          "text": [
            "[DataLoader] Building embedding matrix từ cc.vi.300.vec\n",
            "[DataLoader] Đã lưu embedding matrix cache tại ./embedding_matrix_fasttext_2500_300.npy\n",
            "Load dataset: train\n",
            "[DataLoader] Loading cached embedding matrix: ./embedding_matrix_fasttext_2500_300.npy\n",
            "Load dataset: val\n",
            "Load dataset: test\n",
            "=> Sử dụng Focal Loss\n"
          ]
        },
        {
          "output_type": "stream",
          "name": "stderr",
          "text": [
            "/usr/local/lib/python3.11/dist-packages/keras/src/layers/core/embedding.py:90: UserWarning: Argument `input_length` is deprecated. Just remove it.\n",
            "  warnings.warn(\n"
          ]
        },
        {
          "output_type": "display_data",
          "data": {
            "text/plain": [
              "\u001b[1mModel: \"sequential\"\u001b[0m\n"
            ],
            "text/html": [
              "<pre style=\"white-space:pre;overflow-x:auto;line-height:normal;font-family:Menlo,'DejaVu Sans Mono',consolas,'Courier New',monospace\"><span style=\"font-weight: bold\">Model: \"sequential\"</span>\n",
              "</pre>\n"
            ]
          },
          "metadata": {}
        },
        {
          "output_type": "display_data",
          "data": {
            "text/plain": [
              "┏━━━━━━━━━━━━━━━━━━━━━━━━━━━━━━━━━┳━━━━━━━━━━━━━━━━━━━━━━━━┳━━━━━━━━━━━━━━━┓\n",
              "┃\u001b[1m \u001b[0m\u001b[1mLayer (type)                   \u001b[0m\u001b[1m \u001b[0m┃\u001b[1m \u001b[0m\u001b[1mOutput Shape          \u001b[0m\u001b[1m \u001b[0m┃\u001b[1m \u001b[0m\u001b[1m      Param #\u001b[0m\u001b[1m \u001b[0m┃\n",
              "┡━━━━━━━━━━━━━━━━━━━━━━━━━━━━━━━━━╇━━━━━━━━━━━━━━━━━━━━━━━━╇━━━━━━━━━━━━━━━┩\n",
              "│ embedding (\u001b[38;5;33mEmbedding\u001b[0m)           │ ?                      │   \u001b[38;5;34m0\u001b[0m (unbuilt) │\n",
              "├─────────────────────────────────┼────────────────────────┼───────────────┤\n",
              "│ bidirectional (\u001b[38;5;33mBidirectional\u001b[0m)   │ ?                      │   \u001b[38;5;34m0\u001b[0m (unbuilt) │\n",
              "├─────────────────────────────────┼────────────────────────┼───────────────┤\n",
              "│ dropout (\u001b[38;5;33mDropout\u001b[0m)               │ ?                      │             \u001b[38;5;34m0\u001b[0m │\n",
              "├─────────────────────────────────┼────────────────────────┼───────────────┤\n",
              "│ dense (\u001b[38;5;33mDense\u001b[0m)                   │ ?                      │   \u001b[38;5;34m0\u001b[0m (unbuilt) │\n",
              "└─────────────────────────────────┴────────────────────────┴───────────────┘\n"
            ],
            "text/html": [
              "<pre style=\"white-space:pre;overflow-x:auto;line-height:normal;font-family:Menlo,'DejaVu Sans Mono',consolas,'Courier New',monospace\">┏━━━━━━━━━━━━━━━━━━━━━━━━━━━━━━━━━┳━━━━━━━━━━━━━━━━━━━━━━━━┳━━━━━━━━━━━━━━━┓\n",
              "┃<span style=\"font-weight: bold\"> Layer (type)                    </span>┃<span style=\"font-weight: bold\"> Output Shape           </span>┃<span style=\"font-weight: bold\">       Param # </span>┃\n",
              "┡━━━━━━━━━━━━━━━━━━━━━━━━━━━━━━━━━╇━━━━━━━━━━━━━━━━━━━━━━━━╇━━━━━━━━━━━━━━━┩\n",
              "│ embedding (<span style=\"color: #0087ff; text-decoration-color: #0087ff\">Embedding</span>)           │ ?                      │   <span style=\"color: #00af00; text-decoration-color: #00af00\">0</span> (unbuilt) │\n",
              "├─────────────────────────────────┼────────────────────────┼───────────────┤\n",
              "│ bidirectional (<span style=\"color: #0087ff; text-decoration-color: #0087ff\">Bidirectional</span>)   │ ?                      │   <span style=\"color: #00af00; text-decoration-color: #00af00\">0</span> (unbuilt) │\n",
              "├─────────────────────────────────┼────────────────────────┼───────────────┤\n",
              "│ dropout (<span style=\"color: #0087ff; text-decoration-color: #0087ff\">Dropout</span>)               │ ?                      │             <span style=\"color: #00af00; text-decoration-color: #00af00\">0</span> │\n",
              "├─────────────────────────────────┼────────────────────────┼───────────────┤\n",
              "│ dense (<span style=\"color: #0087ff; text-decoration-color: #0087ff\">Dense</span>)                   │ ?                      │   <span style=\"color: #00af00; text-decoration-color: #00af00\">0</span> (unbuilt) │\n",
              "└─────────────────────────────────┴────────────────────────┴───────────────┘\n",
              "</pre>\n"
            ]
          },
          "metadata": {}
        },
        {
          "output_type": "display_data",
          "data": {
            "text/plain": [
              "\u001b[1m Total params: \u001b[0m\u001b[38;5;34m0\u001b[0m (0.00 B)\n"
            ],
            "text/html": [
              "<pre style=\"white-space:pre;overflow-x:auto;line-height:normal;font-family:Menlo,'DejaVu Sans Mono',consolas,'Courier New',monospace\"><span style=\"font-weight: bold\"> Total params: </span><span style=\"color: #00af00; text-decoration-color: #00af00\">0</span> (0.00 B)\n",
              "</pre>\n"
            ]
          },
          "metadata": {}
        },
        {
          "output_type": "display_data",
          "data": {
            "text/plain": [
              "\u001b[1m Trainable params: \u001b[0m\u001b[38;5;34m0\u001b[0m (0.00 B)\n"
            ],
            "text/html": [
              "<pre style=\"white-space:pre;overflow-x:auto;line-height:normal;font-family:Menlo,'DejaVu Sans Mono',consolas,'Courier New',monospace\"><span style=\"font-weight: bold\"> Trainable params: </span><span style=\"color: #00af00; text-decoration-color: #00af00\">0</span> (0.00 B)\n",
              "</pre>\n"
            ]
          },
          "metadata": {}
        },
        {
          "output_type": "display_data",
          "data": {
            "text/plain": [
              "\u001b[1m Non-trainable params: \u001b[0m\u001b[38;5;34m0\u001b[0m (0.00 B)\n"
            ],
            "text/html": [
              "<pre style=\"white-space:pre;overflow-x:auto;line-height:normal;font-family:Menlo,'DejaVu Sans Mono',consolas,'Courier New',monospace\"><span style=\"font-weight: bold\"> Non-trainable params: </span><span style=\"color: #00af00; text-decoration-color: #00af00\">0</span> (0.00 B)\n",
              "</pre>\n"
            ]
          },
          "metadata": {}
        },
        {
          "output_type": "stream",
          "name": "stdout",
          "text": [
            "{0: np.float64(0.6012518915944421), 1: np.float64(2.9690896739130435)}\n"
          ]
        },
        {
          "output_type": "display_data",
          "data": {
            "text/plain": [
              "\u001b[1mModel: \"sequential\"\u001b[0m\n"
            ],
            "text/html": [
              "<pre style=\"white-space:pre;overflow-x:auto;line-height:normal;font-family:Menlo,'DejaVu Sans Mono',consolas,'Courier New',monospace\"><span style=\"font-weight: bold\">Model: \"sequential\"</span>\n",
              "</pre>\n"
            ]
          },
          "metadata": {}
        },
        {
          "output_type": "display_data",
          "data": {
            "text/plain": [
              "┏━━━━━━━━━━━━━━━━━━━━━━━━━━━━━━━━━┳━━━━━━━━━━━━━━━━━━━━━━━━┳━━━━━━━━━━━━━━━┓\n",
              "┃\u001b[1m \u001b[0m\u001b[1mLayer (type)                   \u001b[0m\u001b[1m \u001b[0m┃\u001b[1m \u001b[0m\u001b[1mOutput Shape          \u001b[0m\u001b[1m \u001b[0m┃\u001b[1m \u001b[0m\u001b[1m      Param #\u001b[0m\u001b[1m \u001b[0m┃\n",
              "┡━━━━━━━━━━━━━━━━━━━━━━━━━━━━━━━━━╇━━━━━━━━━━━━━━━━━━━━━━━━╇━━━━━━━━━━━━━━━┩\n",
              "│ embedding (\u001b[38;5;33mEmbedding\u001b[0m)           │ ?                      │   \u001b[38;5;34m0\u001b[0m (unbuilt) │\n",
              "├─────────────────────────────────┼────────────────────────┼───────────────┤\n",
              "│ bidirectional (\u001b[38;5;33mBidirectional\u001b[0m)   │ ?                      │   \u001b[38;5;34m0\u001b[0m (unbuilt) │\n",
              "├─────────────────────────────────┼────────────────────────┼───────────────┤\n",
              "│ dropout (\u001b[38;5;33mDropout\u001b[0m)               │ ?                      │             \u001b[38;5;34m0\u001b[0m │\n",
              "├─────────────────────────────────┼────────────────────────┼───────────────┤\n",
              "│ dense (\u001b[38;5;33mDense\u001b[0m)                   │ ?                      │   \u001b[38;5;34m0\u001b[0m (unbuilt) │\n",
              "└─────────────────────────────────┴────────────────────────┴───────────────┘\n"
            ],
            "text/html": [
              "<pre style=\"white-space:pre;overflow-x:auto;line-height:normal;font-family:Menlo,'DejaVu Sans Mono',consolas,'Courier New',monospace\">┏━━━━━━━━━━━━━━━━━━━━━━━━━━━━━━━━━┳━━━━━━━━━━━━━━━━━━━━━━━━┳━━━━━━━━━━━━━━━┓\n",
              "┃<span style=\"font-weight: bold\"> Layer (type)                    </span>┃<span style=\"font-weight: bold\"> Output Shape           </span>┃<span style=\"font-weight: bold\">       Param # </span>┃\n",
              "┡━━━━━━━━━━━━━━━━━━━━━━━━━━━━━━━━━╇━━━━━━━━━━━━━━━━━━━━━━━━╇━━━━━━━━━━━━━━━┩\n",
              "│ embedding (<span style=\"color: #0087ff; text-decoration-color: #0087ff\">Embedding</span>)           │ ?                      │   <span style=\"color: #00af00; text-decoration-color: #00af00\">0</span> (unbuilt) │\n",
              "├─────────────────────────────────┼────────────────────────┼───────────────┤\n",
              "│ bidirectional (<span style=\"color: #0087ff; text-decoration-color: #0087ff\">Bidirectional</span>)   │ ?                      │   <span style=\"color: #00af00; text-decoration-color: #00af00\">0</span> (unbuilt) │\n",
              "├─────────────────────────────────┼────────────────────────┼───────────────┤\n",
              "│ dropout (<span style=\"color: #0087ff; text-decoration-color: #0087ff\">Dropout</span>)               │ ?                      │             <span style=\"color: #00af00; text-decoration-color: #00af00\">0</span> │\n",
              "├─────────────────────────────────┼────────────────────────┼───────────────┤\n",
              "│ dense (<span style=\"color: #0087ff; text-decoration-color: #0087ff\">Dense</span>)                   │ ?                      │   <span style=\"color: #00af00; text-decoration-color: #00af00\">0</span> (unbuilt) │\n",
              "└─────────────────────────────────┴────────────────────────┴───────────────┘\n",
              "</pre>\n"
            ]
          },
          "metadata": {}
        },
        {
          "output_type": "display_data",
          "data": {
            "text/plain": [
              "\u001b[1m Total params: \u001b[0m\u001b[38;5;34m0\u001b[0m (0.00 B)\n"
            ],
            "text/html": [
              "<pre style=\"white-space:pre;overflow-x:auto;line-height:normal;font-family:Menlo,'DejaVu Sans Mono',consolas,'Courier New',monospace\"><span style=\"font-weight: bold\"> Total params: </span><span style=\"color: #00af00; text-decoration-color: #00af00\">0</span> (0.00 B)\n",
              "</pre>\n"
            ]
          },
          "metadata": {}
        },
        {
          "output_type": "display_data",
          "data": {
            "text/plain": [
              "\u001b[1m Trainable params: \u001b[0m\u001b[38;5;34m0\u001b[0m (0.00 B)\n"
            ],
            "text/html": [
              "<pre style=\"white-space:pre;overflow-x:auto;line-height:normal;font-family:Menlo,'DejaVu Sans Mono',consolas,'Courier New',monospace\"><span style=\"font-weight: bold\"> Trainable params: </span><span style=\"color: #00af00; text-decoration-color: #00af00\">0</span> (0.00 B)\n",
              "</pre>\n"
            ]
          },
          "metadata": {}
        },
        {
          "output_type": "display_data",
          "data": {
            "text/plain": [
              "\u001b[1m Non-trainable params: \u001b[0m\u001b[38;5;34m0\u001b[0m (0.00 B)\n"
            ],
            "text/html": [
              "<pre style=\"white-space:pre;overflow-x:auto;line-height:normal;font-family:Menlo,'DejaVu Sans Mono',consolas,'Courier New',monospace\"><span style=\"font-weight: bold\"> Non-trainable params: </span><span style=\"color: #00af00; text-decoration-color: #00af00\">0</span> (0.00 B)\n",
              "</pre>\n"
            ]
          },
          "metadata": {}
        },
        {
          "output_type": "stream",
          "name": "stdout",
          "text": [
            "Epoch 1/10\n",
            "\u001b[1m16/16\u001b[0m \u001b[32m━━━━━━━━━━━━━━━━━━━━\u001b[0m\u001b[37m\u001b[0m \u001b[1m1s\u001b[0m 34ms/step\n",
            " — val_precision: 0.3750 — val_recall: 0.0366 — val_f1: 0.0667 — val_auc: 0.5881\n",
            "\n",
            "Epoch 1: val_loss improved from inf to 0.10245, saving model to /content/drive/MyDrive/1.PROJECTS/[TeamPe][BIT][BGRA2025]/NLP/Code/checkpoints/best_model.keras\n",
            "\u001b[1m274/274\u001b[0m \u001b[32m━━━━━━━━━━━━━━━━━━━━\u001b[0m\u001b[37m\u001b[0m \u001b[1m36s\u001b[0m 85ms/step - accuracy: 0.8446 - auc: 0.7331 - loss: 0.0512 - precision: 0.4999 - recall: 0.1995 - val_accuracy: 0.8272 - val_auc: 0.5881 - val_loss: 0.1024 - val_precision: 0.3750 - val_recall: 0.0366 - val_f1: 0.0667\n",
            "Epoch 2/10\n",
            "\u001b[1m16/16\u001b[0m \u001b[32m━━━━━━━━━━━━━━━━━━━━\u001b[0m\u001b[37m\u001b[0m \u001b[1m0s\u001b[0m 16ms/step\n",
            " — val_precision: 0.3000 — val_recall: 0.0366 — val_f1: 0.0652 — val_auc: 0.5257\n",
            "\n",
            "Epoch 2: val_loss did not improve from 0.10245\n",
            "\u001b[1m274/274\u001b[0m \u001b[32m━━━━━━━━━━━━━━━━━━━━\u001b[0m\u001b[37m\u001b[0m \u001b[1m15s\u001b[0m 54ms/step - accuracy: 0.9394 - auc: 0.9638 - loss: 0.0225 - precision: 0.8323 - recall: 0.7843 - val_accuracy: 0.8230 - val_auc: 0.5257 - val_loss: 0.1548 - val_precision: 0.3000 - val_recall: 0.0366 - val_f1: 0.0652\n",
            "Epoch 3/10\n",
            "\u001b[1m16/16\u001b[0m \u001b[32m━━━━━━━━━━━━━━━━━━━━\u001b[0m\u001b[37m\u001b[0m \u001b[1m0s\u001b[0m 17ms/step\n",
            " — val_precision: 0.2800 — val_recall: 0.1707 — val_f1: 0.2121 — val_auc: 0.5574\n",
            "\n",
            "Epoch 3: val_loss did not improve from 0.10245\n",
            "\u001b[1m274/274\u001b[0m \u001b[32m━━━━━━━━━━━━━━━━━━━━\u001b[0m\u001b[37m\u001b[0m \u001b[1m22s\u001b[0m 58ms/step - accuracy: 0.9704 - auc: 0.9898 - loss: 0.0116 - precision: 0.9212 - recall: 0.8901 - val_accuracy: 0.7860 - val_auc: 0.5574 - val_loss: 0.1824 - val_precision: 0.2800 - val_recall: 0.1707 - val_f1: 0.2121\n",
            "Epoch 4/10\n",
            "\u001b[1m16/16\u001b[0m \u001b[32m━━━━━━━━━━━━━━━━━━━━\u001b[0m\u001b[37m\u001b[0m \u001b[1m0s\u001b[0m 17ms/step\n",
            " — val_precision: 0.3714 — val_recall: 0.1585 — val_f1: 0.2222 — val_auc: 0.5596\n",
            "\n",
            "Epoch 4: val_loss did not improve from 0.10245\n",
            "\u001b[1m274/274\u001b[0m \u001b[32m━━━━━━━━━━━━━━━━━━━━\u001b[0m\u001b[37m\u001b[0m \u001b[1m20s\u001b[0m 56ms/step - accuracy: 0.9873 - auc: 0.9978 - loss: 0.0052 - precision: 0.9689 - recall: 0.9513 - val_accuracy: 0.8128 - val_auc: 0.5596 - val_loss: 0.2322 - val_precision: 0.3714 - val_recall: 0.1585 - val_f1: 0.2222\n",
            "Epoch 5/10\n",
            "\u001b[1m16/16\u001b[0m \u001b[32m━━━━━━━━━━━━━━━━━━━━\u001b[0m\u001b[37m\u001b[0m \u001b[1m0s\u001b[0m 18ms/step\n",
            " — val_precision: 0.2727 — val_recall: 0.2195 — val_f1: 0.2432 — val_auc: 0.5751\n",
            "\n",
            "Epoch 5: val_loss did not improve from 0.10245\n",
            "\u001b[1m274/274\u001b[0m \u001b[32m━━━━━━━━━━━━━━━━━━━━\u001b[0m\u001b[37m\u001b[0m \u001b[1m21s\u001b[0m 58ms/step - accuracy: 0.9905 - auc: 0.9982 - loss: 0.0046 - precision: 0.9722 - recall: 0.9706 - val_accuracy: 0.7695 - val_auc: 0.5751 - val_loss: 0.2187 - val_precision: 0.2727 - val_recall: 0.2195 - val_f1: 0.2432\n",
            "Epoch 6/10\n",
            "\u001b[1m16/16\u001b[0m \u001b[32m━━━━━━━━━━━━━━━━━━━━\u001b[0m\u001b[37m\u001b[0m \u001b[1m0s\u001b[0m 18ms/step\n",
            " — val_precision: 0.2131 — val_recall: 0.1585 — val_f1: 0.1818 — val_auc: 0.5744\n",
            "\n",
            "Epoch 6: val_loss did not improve from 0.10245\n",
            "\u001b[1m274/274\u001b[0m \u001b[32m━━━━━━━━━━━━━━━━━━━━\u001b[0m\u001b[37m\u001b[0m \u001b[1m21s\u001b[0m 58ms/step - accuracy: 0.9927 - auc: 0.9987 - loss: 0.0040 - precision: 0.9782 - recall: 0.9779 - val_accuracy: 0.7593 - val_auc: 0.5744 - val_loss: 0.2215 - val_precision: 0.2131 - val_recall: 0.1585 - val_f1: 0.1818\n",
            "Epoch 7/10\n",
            "\u001b[1m16/16\u001b[0m \u001b[32m━━━━━━━━━━━━━━━━━━━━\u001b[0m\u001b[37m\u001b[0m \u001b[1m0s\u001b[0m 18ms/step\n",
            " — val_precision: 0.3000 — val_recall: 0.0732 — val_f1: 0.1176 — val_auc: 0.5671\n",
            "\n",
            "Epoch 7: val_loss did not improve from 0.10245\n",
            "\u001b[1m274/274\u001b[0m \u001b[32m━━━━━━━━━━━━━━━━━━━━\u001b[0m\u001b[37m\u001b[0m \u001b[1m16s\u001b[0m 57ms/step - accuracy: 0.9945 - auc: 0.9994 - loss: 0.0028 - precision: 0.9829 - recall: 0.9830 - val_accuracy: 0.8148 - val_auc: 0.5671 - val_loss: 0.2994 - val_precision: 0.3000 - val_recall: 0.0732 - val_f1: 0.1176\n",
            "Epoch 8/10\n",
            "\u001b[1m16/16\u001b[0m \u001b[32m━━━━━━━━━━━━━━━━━━━━\u001b[0m\u001b[37m\u001b[0m \u001b[1m0s\u001b[0m 16ms/step\n",
            " — val_precision: 0.3182 — val_recall: 0.1707 — val_f1: 0.2222 — val_auc: 0.5626\n",
            "\n",
            "Epoch 8: val_loss did not improve from 0.10245\n",
            "\u001b[1m274/274\u001b[0m \u001b[32m━━━━━━━━━━━━━━━━━━━━\u001b[0m\u001b[37m\u001b[0m \u001b[1m14s\u001b[0m 50ms/step - accuracy: 0.9964 - auc: 0.9994 - loss: 0.0018 - precision: 0.9905 - recall: 0.9875 - val_accuracy: 0.7984 - val_auc: 0.5626 - val_loss: 0.2726 - val_precision: 0.3182 - val_recall: 0.1707 - val_f1: 0.2222\n",
            "Epoch 9/10\n",
            "\u001b[1m16/16\u001b[0m \u001b[32m━━━━━━━━━━━━━━━━━━━━\u001b[0m\u001b[37m\u001b[0m \u001b[1m0s\u001b[0m 18ms/step\n",
            " — val_precision: 0.2941 — val_recall: 0.1829 — val_f1: 0.2256 — val_auc: 0.5721\n",
            "\n",
            "Epoch 9: val_loss did not improve from 0.10245\n",
            "\u001b[1m274/274\u001b[0m \u001b[32m━━━━━━━━━━━━━━━━━━━━\u001b[0m\u001b[37m\u001b[0m \u001b[1m23s\u001b[0m 59ms/step - accuracy: 0.9989 - auc: 1.0000 - loss: 7.2868e-04 - precision: 0.9973 - recall: 0.9959 - val_accuracy: 0.7881 - val_auc: 0.5721 - val_loss: 0.2892 - val_precision: 0.2941 - val_recall: 0.1829 - val_f1: 0.2256\n",
            "Epoch 10/10\n",
            "\u001b[1m16/16\u001b[0m \u001b[32m━━━━━━━━━━━━━━━━━━━━\u001b[0m\u001b[37m\u001b[0m \u001b[1m0s\u001b[0m 18ms/step\n",
            " — val_precision: 0.3636 — val_recall: 0.1951 — val_f1: 0.2540 — val_auc: 0.5759\n",
            "\n",
            "Epoch 10: val_loss did not improve from 0.10245\n",
            "\u001b[1m274/274\u001b[0m \u001b[32m━━━━━━━━━━━━━━━━━━━━\u001b[0m\u001b[37m\u001b[0m \u001b[1m16s\u001b[0m 57ms/step - accuracy: 0.9987 - auc: 1.0000 - loss: 5.6512e-04 - precision: 0.9968 - recall: 0.9954 - val_accuracy: 0.8066 - val_auc: 0.5759 - val_loss: 0.2870 - val_precision: 0.3636 - val_recall: 0.1951 - val_f1: 0.2540\n",
            "loss: 0.2911\n",
            "compile_metrics: 0.7798\n",
            "\u001b[1m16/16\u001b[0m \u001b[32m━━━━━━━━━━━━━━━━━━━━\u001b[0m\u001b[37m\u001b[0m \u001b[1m0s\u001b[0m 17ms/step\n",
            "\n",
            "📋 Classification Report (threshold = 0.5):\n",
            "              precision    recall  f1-score   support\n",
            "\n",
            "           0     0.8383    0.9109    0.8731       404\n",
            "           1     0.2340    0.1341    0.1705        82\n",
            "\n",
            "    accuracy                         0.7798       486\n",
            "   macro avg     0.5362    0.5225    0.5218       486\n",
            "weighted avg     0.7363    0.7798    0.7545       486\n",
            "\n",
            "\n",
            "🔍 Precision: 0.2340 | Recall: 0.1341 | F1-score: 0.1705\n",
            "\u001b[1m16/16\u001b[0m \u001b[32m━━━━━━━━━━━━━━━━━━━━\u001b[0m\u001b[37m\u001b[0m \u001b[1m0s\u001b[0m 17ms/step\n",
            "\n",
            "📊 Confusion Matrix:\n",
            "[[368  36]\n",
            " [ 71  11]]\n"
          ]
        },
        {
          "output_type": "display_data",
          "data": {
            "text/plain": [
              "<Figure size 400x300 with 2 Axes>"
            ],
            "image/png": "[encoded data removed]"
          },
          "metadata": {}
        },
        {
          "output_type": "stream",
          "name": "stdout",
          "text": [
            "\u001b[1m16/16\u001b[0m \u001b[32m━━━━━━━━━━━━━━━━━━━━\u001b[0m\u001b[37m\u001b[0m \u001b[1m0s\u001b[0m 17ms/step\n"
          ]
        },
        {
          "output_type": "display_data",
          "data": {
            "text/plain": [
              "<Figure size 640x480 with 1 Axes>"
            ],
            "image/png": "[encoded data removed]"
          },
          "metadata": {}
        }
      ]
    },
    {
      "cell_type": "code",
      "source": [
        "from keras.models import load_model\n",
        "\n",
        "# Load lại mô hình\n",
        "loaded_model = load_model(\n",
        "    \"/content/drive/MyDrive/1.PROJECTS/[TeamPe][BIT][BGRA2025]/NLP/Code/checkpoints/best_model.keras\",\n",
        "    custom_objects={\"focal_loss_fixed\": focal_loss_fixed},\n",
        "    compile=True)\n",
        "\n",
        "# Tạo evaluator mới\n",
        "evaluator = Evaluator(loaded_model)\n",
        "\n",
        "evaluator.evaluate(X_test, y_test)\n",
        "evaluator.classification_report(X_test, y_test)\n",
        "evaluator.confusion_matrix(X_test, y_test)\n",
        "evaluator.plot_roc_auc(X_test, y_test)\n",
        "\n"
      ],
      "metadata": {
        "id": "U2rpEvMFSdoc",
        "colab": {
          "base_uri": "https://localhost:8080/",
          "height": 1000
        },
        "outputId": "476450b1-c963-406d-aad8-bb6392af110b"
      },
      "execution_count": 19,
      "outputs": [
        {
          "output_type": "stream",
          "name": "stdout",
          "text": [
            "loss: 0.0962\n",
            "compile_metrics: 0.8189\n",
            "\u001b[1m16/16\u001b[0m \u001b[32m━━━━━━━━━━━━━━━━━━━━\u001b[0m\u001b[37m\u001b[0m \u001b[1m1s\u001b[0m 31ms/step\n",
            "\n",
            "📋 Classification Report (threshold = 0.5):\n",
            "              precision    recall  f1-score   support\n",
            "\n",
            "           0     0.8319    0.9802    0.9000       404\n",
            "           1     0.2000    0.0244    0.0435        82\n",
            "\n",
            "    accuracy                         0.8189       486\n",
            "   macro avg     0.5160    0.5023    0.4717       486\n",
            "weighted avg     0.7253    0.8189    0.7555       486\n",
            "\n",
            "\n",
            "🔍 Precision: 0.2000 | Recall: 0.0244 | F1-score: 0.0435\n",
            "\u001b[1m16/16\u001b[0m \u001b[32m━━━━━━━━━━━━━━━━━━━━\u001b[0m\u001b[37m\u001b[0m \u001b[1m0s\u001b[0m 17ms/step\n",
            "\n",
            "📊 Confusion Matrix:\n",
            "[[396   8]\n",
            " [ 80   2]]\n"
          ]
        },
        {
          "output_type": "display_data",
          "data": {
            "text/plain": [
              "<Figure size 400x300 with 2 Axes>"
            ],
            "image/png": "[encoded data removed]"
          },
          "metadata": {}
        },
        {
          "output_type": "stream",
          "name": "stdout",
          "text": [
            "\u001b[1m16/16\u001b[0m \u001b[32m━━━━━━━━━━━━━━━━━━━━\u001b[0m\u001b[37m\u001b[0m \u001b[1m0s\u001b[0m 18ms/step\n"
          ]
        },
        {
          "output_type": "display_data",
          "data": {
            "text/plain": [
              "<Figure size 640x480 with 1 Axes>"
            ],
            "image/png": "[encoded data removed]"
          },
          "metadata": {}
        }
      ]
    }
  ]
}